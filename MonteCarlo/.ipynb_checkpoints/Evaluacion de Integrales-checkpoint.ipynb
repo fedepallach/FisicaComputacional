{
 "cells": [
  {
   "cell_type": "markdown",
   "id": "6ea59e40",
   "metadata": {},
   "source": [
    "# Evaluacion de Integrales"
   ]
  },
  {
   "cell_type": "markdown",
   "id": "a245d410",
   "metadata": {},
   "source": [
    "## S sen(x)=dx   de 0 a Pi   (con importance sampling como x)"
   ]
  },
  {
   "cell_type": "code",
   "execution_count": 19,
   "id": "63a7b2ef",
   "metadata": {},
   "outputs": [],
   "source": [
    "import matplotlib.pyplot as plt\n",
    "import numpy as np\n",
    "import pandas as pd\n",
    "import math\n",
    "import random"
   ]
  },
  {
   "cell_type": "code",
   "execution_count": 20,
   "id": "13b9037d",
   "metadata": {},
   "outputs": [],
   "source": [
    "#S sen(x)=dx -> S sin[sqrt(2y)/sqrt(2y)]dy   0 - (pi**2)/ 8"
   ]
  },
  {
   "cell_type": "code",
   "execution_count": 21,
   "id": "9acb79f2",
   "metadata": {},
   "outputs": [],
   "source": [
    "def GenerateRandoms(a,b,n):\n",
    "    rArr = np.zeros(n)\n",
    "    for i in range(0,n):\n",
    "        rArr[i] = random.uniform(a,b)\n",
    "    return rArr"
   ]
  },
  {
   "cell_type": "code",
   "execution_count": 40,
   "id": "7b126d60",
   "metadata": {},
   "outputs": [],
   "source": [
    "def F(y):\n",
    "    return math.sin(math.sqrt(2*y))/math.sqrt(2*y)"
   ]
  },
  {
   "cell_type": "code",
   "execution_count": 43,
   "id": "4809bf72",
   "metadata": {},
   "outputs": [],
   "source": [
    "def FindMean(r):\n",
    "    Evaluations = np.zeros(len(r))\n",
    "    for i in range(0,len(r)):\n",
    "        Evaluations[i]=F(r[i])\n",
    "    mean = np.mean(Evaluations)\n",
    "    return mean"
   ]
  },
  {
   "cell_type": "markdown",
   "id": "bb53fefb",
   "metadata": {},
   "source": [
    "### Main"
   ]
  },
  {
   "cell_type": "code",
   "execution_count": null,
   "id": "d49807b9",
   "metadata": {},
   "outputs": [],
   "source": [
    "a = 0\n",
    "b = (math.pi**2)/8\n",
    "samples = 100000000 #1 millon empieza a parpadear. si usas 100 millones (esta ahoita), ya se tarda muchisimo!\n",
    "r = np.zeros(samples)\n",
    "r = GenerateRandoms(a,b,samples)\n",
    "mean = FindMean(r)\n",
    "result = mean*(b-a)\n",
    "print(result)\n",
    "#Bastante bien! 1 es el resultado correcto"
   ]
  },
  {
   "cell_type": "code",
   "execution_count": null,
   "id": "41d3c1db",
   "metadata": {},
   "outputs": [],
   "source": []
  },
  {
   "cell_type": "code",
   "execution_count": null,
   "id": "069a0b34",
   "metadata": {},
   "outputs": [],
   "source": []
  }
 ],
 "metadata": {
  "kernelspec": {
   "display_name": "Python 3 (ipykernel)",
   "language": "python",
   "name": "python3"
  },
  "language_info": {
   "codemirror_mode": {
    "name": "ipython",
    "version": 3
   },
   "file_extension": ".py",
   "mimetype": "text/x-python",
   "name": "python",
   "nbconvert_exporter": "python",
   "pygments_lexer": "ipython3",
   "version": "3.10.9"
  }
 },
 "nbformat": 4,
 "nbformat_minor": 5
}
