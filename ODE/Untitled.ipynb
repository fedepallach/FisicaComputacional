{
 "cells": [
  {
   "cell_type": "code",
   "execution_count": null,
   "id": "35182a61",
   "metadata": {},
   "outputs": [],
   "source": [
    "Euler modificado y mejorado"
   ]
  }
 ],
 "metadata": {
  "kernelspec": {
   "display_name": "Python 3 (ipykernel)",
   "language": "python",
   "name": "python3"
  }
 },
 "nbformat": 4,
 "nbformat_minor": 5
}
